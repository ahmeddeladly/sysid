{
 "cells": [
  {
   "cell_type": "markdown",
   "metadata": {},
   "source": [
    "# Identification of nonlinear systems\n",
    "\n",
    "Topics:\n",
    "\n",
    "- Nonlinear estimation via regularized least-squares minimization in Hilbert spaces\n",
    "- RKHS and key results\n",
    "- Widely used kernes (linear, RBF, spline)\n",
    "- Nonlinear estimation in practice\n",
    "\n",
    "## Nonlinear estimation problem\n",
    "\n",
    "Given a set of training data $\\{(x_i, y_i)\\}_{i\\in I}$ with $x_i\\in X$ and $y_i\\in \\mathbb{R}$, we seek to determine a function $g:X\\to \\mathbb{R}$ to \"best\" interpolate these data according to the model \n",
    "\n",
    "$$\n",
    "y = g(x).\n",
    "$$\n",
    "\n",
    "We will focus on functions in certain functional spaces. We shall, in particular, restrict our attention to a Hibert space $H$.\n",
    "\n",
    "Our objective is to solve the following regularized least-squares problem over $H$ with a regularizer $R:H\\to\\mathbb{R}$ and regularization parameter $\\gamma>0$\n",
    "\n",
    "$$\n",
    "\\operatorname*{Minimize}_{g\\in H} \\sum_{i\\in I} (y_i - g(x_i))^2 + \\gamma R(g)\n",
    "$$\n",
    "\n",
    "A solution (minimizer) of this problem (when there exists one) is denoted by $g^\\star$.\n",
    "\n",
    "Good news: although this problem looks too abstract (the minimization is carried out over an abstract space $H$), it is possible to derive a closed-form solution for $g$ provided we endow $H$ with a certain structure. This is the structure of a reproducing kernel Hilbert space.\n",
    "\n",
    "## Reproducing kernel Hilbert spaces\n",
    "\n",
    "- RKHS definition\n",
    "- Riezs and Moore-Aronszajn Theorems\n",
    "- The Gram matrix\n",
    "- Representer theorems for system identification\n",
    "\n",
    "## Kernels\n",
    "\n",
    "- Linear\n",
    "- RBF\n",
    "- Spline\n",
    "\n",
    "### For the competition\n",
    "\n",
    "Give to the contestants only a set of excitation signals $U^i_{\\text{tst}}$ and ask them to produce an estimate of the system output $\\hat{Y}$. "
   ]
  },
  {
   "cell_type": "code",
   "execution_count": 1,
   "metadata": {
    "collapsed": true
   },
   "outputs": [],
   "source": [
    "# Necessary imports\n",
    "import numpy as np\n",
    "import scipy as sp\n",
    "import cvxpy as cp\n",
    "import matplotlib.pyplot as plt"
   ]
  }
 ],
 "metadata": {
  "kernelspec": {
   "display_name": "Python 2",
   "language": "python",
   "name": "python2"
  },
  "language_info": {
   "codemirror_mode": {
    "name": "ipython",
    "version": 3
   },
   "file_extension": ".py",
   "mimetype": "text/x-python",
   "name": "python",
   "nbconvert_exporter": "python",
   "pygments_lexer": "ipython3",
   "version": "3.6.3"
  }
 },
 "nbformat": 4,
 "nbformat_minor": 2
}
